{
 "cells": [
  {
   "cell_type": "markdown",
   "id": "485dc7e0",
   "metadata": {},
   "source": [
    "# 🚢 Titanic Survival Predictor - SageMaker Project\n",
    "This notebook follows the full ML lifecycle using Amazon SageMaker."
   ]
  },
  {
   "cell_type": "markdown",
   "id": "f5b7ff23",
   "metadata": {},
   "source": [
    "## 📥 Step 1: Download Titanic Dataset and Upload to S3"
   ]
  },
  {
   "cell_type": "code",
   "execution_count": null,
   "id": "7ba466e1",
   "metadata": {},
   "outputs": [],
   "source": [
    "import pandas as pd, sagemaker\n",
    "\n",
    "# Load dataset\n",
    "df = pd.read_csv(\"https://github.com/sogah2023/AI-ML/blob/main/Titanic%20Dataset.csv?raw=true\")\n",
    "df.to_csv(\"titanic.csv\", index=False)\n",
    "\n",
    "# Upload to S3\n",
    "bucket = sagemaker.Session().default_bucket()\n",
    "s3_path = sagemaker.Session().upload_data(\"titanic.csv\", key_prefix=\"titanic/raw\")\n",
    "print(\"Uploaded to:\", s3_path)"
   ]
  },
  {
   "cell_type": "markdown",
   "id": "8e5bfb16",
   "metadata": {},
   "source": [
    "## 🔎 Step 2: Exploratory Data Analysis"
   ]
  },
  {
   "cell_type": "code",
   "execution_count": null,
   "id": "e094a12e",
   "metadata": {},
   "outputs": [],
   "source": [
    "import seaborn as sns\n",
    "import matplotlib.pyplot as plt\n",
    "sns.heatmap(df.corr(), annot=True)\n",
    "plt.title(\"Feature Correlation Heatmap\")\n",
    "plt.show()"
   ]
  },
  {
   "cell_type": "markdown",
   "id": "68d41189",
   "metadata": {},
   "source": [
    "## ⚙️ Step 3: Train a Model using XGBoost Estimator"
   ]
  },
  {
   "cell_type": "code",
   "execution_count": null,
   "id": "49f40777",
   "metadata": {},
   "outputs": [],
   "source": [
    "from sagemaker.estimator import Estimator\n",
    "role = sagemaker.get_execution_role()\n",
    "\n",
    "xgb = Estimator(\n",
    "    image_uri=sagemaker.image_uris.retrieve(\"xgboost\", region=sagemaker.Session().boto_region_name, version=\"1.3-1\"),\n",
    "    role=role,\n",
    "    instance_count=1,\n",
    "    instance_type=\"ml.m5.large\",\n",
    "    output_path=f\"s3://{bucket}/output\"\n",
    ")\n",
    "\n",
    "# You'll need to prepare train/test data in S3 and set input channels\n",
    "# xgb.fit({'train': 's3://.../train.csv', 'validation': 's3://.../validation.csv'})"
   ]
  },
  {
   "cell_type": "markdown",
   "id": "e9e874dd",
   "metadata": {},
   "source": [
    "## 🚀 Step 4: Deploy the Model and Invoke Endpoint"
   ]
  },
  {
   "cell_type": "code",
   "execution_count": null,
   "id": "7837f1c5",
   "metadata": {},
   "outputs": [],
   "source": [
    "# predictor = xgb.deploy(initial_instance_count=1, instance_type='ml.m5.large')\n",
    "# result = predictor.predict([[3, 'male', 22, 1, 0, 7.25]])\n",
    "# print(result)"
   ]
  },
  {
   "cell_type": "markdown",
   "id": "796897c0",
   "metadata": {},
   "source": [
    "## 📈 Step 5: Monitor with Model Monitor and Clarify (Optional Steps)"
   ]
  },
  {
   "cell_type": "code",
   "execution_count": null,
   "id": "1929bee5",
   "metadata": {},
   "outputs": [],
   "source": [
    "# from sagemaker.model_monitor import DataCaptureConfig\n",
    "# capture_config = DataCaptureConfig(\n",
    "#     enable_capture=True,\n",
    "#     sampling_percentage=100,\n",
    "#     destination_s3_uri=f\"s3://{bucket}/monitor/\"\n",
    "# )"
   ]
  },
  {
   "cell_type": "markdown",
   "id": "fe010679",
   "metadata": {},
   "source": [
    "## 🔄 Step 6: Automate with SageMaker Pipelines (Structure Only)"
   ]
  },
  {
   "cell_type": "code",
   "execution_count": null,
   "id": "c0cc30dc",
   "metadata": {},
   "outputs": [],
   "source": [
    "# from sagemaker.workflow.pipeline import Pipeline\n",
    "# pipeline = Pipeline(name='TitanicPipeline', steps=[...])\n",
    "# pipeline.upsert(role_arn=role)\n",
    "# pipeline.start()"
   ]
  }
 ],
 "metadata": {},
 "nbformat": 4,
 "nbformat_minor": 5
}
